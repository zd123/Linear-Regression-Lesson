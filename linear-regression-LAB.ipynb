{
 "cells": [
  {
   "cell_type": "markdown",
   "metadata": {},
   "source": [
    "# Linear Regression Assignment\n",
    "---\n",
    "Build and save a linear regression model to predict wine quality.\n",
    "\n",
    "1. Load the data into a dataframe from 'data/winequality-white.csv' using pandas.\n",
    "\n",
    "1. Plot each of the feature variables with the quality variable to find which ones have a linear relationship using `sns.relplot()` function. \n",
    "\n",
    "1. Select which features you are going to use for your model.\n",
    "\n",
    "1. Create your `X` and `y` variables.\n",
    "\n",
    "1. Split your `X` and `y` data into testing and training groups using `test_train_split`\n",
    "\n",
    "1. Initalize your Linear Regression model\n",
    "\n",
    "1. Use the training data to fit the Linear Regression model.\n",
    "\n",
    "1. Predict the quality of wine of the testing data. \n",
    "\n",
    "1. Compute and print the R-Squared and Mean Absolute Error for your model.\n",
    "\n",
    "1. Build a new dataframe of your coefficients and with the feature names.\n",
    "\n",
    "1. Use `sns.regplot` to plot the relationship between quality any one of your variables of your choice. \n",
    "\n",
    "1. Again, make predictions of the test data.\n",
    "\n",
    "1. Make a data frame of your predicitions and their actual values.\n",
    "\n",
    "1. Manually create a prediction of one row of data.\n",
    "\n",
    "1. Manually, calculate the Mean Absolute Error of your predictions. \n",
    "\n",
    "1. Save and export your model using `pickle`. \n",
    "\n",
    "1. Extra Credit Exploration\n",
    "___\n",
    "\n",
    "#### I urge you not to copy and paste the code, but rather type it out yourself. \n"
   ]
  },
  {
   "cell_type": "code",
   "execution_count": null,
   "metadata": {},
   "outputs": [],
   "source": [
    "# IMPORT OUR LIBRARIES\n"
   ]
  },
  {
   "cell_type": "markdown",
   "metadata": {},
   "source": [
    "# Load and inspect the data.\n",
    "1. Load the data into a dataframe from `'data/winequality-white.csv'` using pandas."
   ]
  },
  {
   "cell_type": "code",
   "execution_count": null,
   "metadata": {},
   "outputs": [],
   "source": [
    "# READ IN THE DATA USING PANDAS \n",
    "df =\n",
    "\n",
    "# DISPLAY THE FIRST 5 ROWS"
   ]
  },
  {
   "cell_type": "markdown",
   "metadata": {},
   "source": [
    "# Inspect our data using `df.describe()` function.\n"
   ]
  },
  {
   "cell_type": "code",
   "execution_count": null,
   "metadata": {},
   "outputs": [],
   "source": []
  },
  {
   "cell_type": "markdown",
   "metadata": {},
   "source": [
    "# Plot histograms of all the features using `df.hist()`"
   ]
  },
  {
   "cell_type": "code",
   "execution_count": null,
   "metadata": {},
   "outputs": [],
   "source": []
  },
  {
   "cell_type": "markdown",
   "metadata": {},
   "source": [
    "# Find which features have a linear relationship with quality using `sns.relplot()`"
   ]
  },
  {
   "cell_type": "code",
   "execution_count": null,
   "metadata": {},
   "outputs": [],
   "source": [
    "all_features = ['fixed acidity', 'volatile acidity', 'citric acid', 'residual sugar',\n",
    "               'chlorides', 'free sulfur dioxide', 'total sulfur dioxide',\n",
    "                   'pH', 'sulphates', 'alcohol']\n",
    "\n",
    "for feature in all_features:\n",
    "    sns.relplot(...)"
   ]
  },
  {
   "cell_type": "markdown",
   "metadata": {},
   "source": [
    "# Select your predictor features and your target variable.\n",
    "1. Using the plots above, select the features that have the most linear relationship with quality and create a `feature` list that is the list of our your features variables. \n",
    "2. Create a target variable, remember, what are we trying to predict. "
   ]
  },
  {
   "cell_type": "code",
   "execution_count": null,
   "metadata": {},
   "outputs": [],
   "source": [
    "# OUR THINGS AKA INPUT FEATURES ARE OUR EXPLANATORY VARIABLES\n",
    "# THESE ARE WHAT WE ARE GOING TO USE TO PREDICT THE QUALITY OF THE WINE\n",
    "features = \n",
    "\n",
    "# OUR TARGET, THE THING WE ARE TARGETING TO EXPLAIN, IS OUR DEPENDENT VARIABLE\n",
    "# THIS IS OUR OUTPUT\n",
    "target = \n",
    "\n",
    "\n",
    "# ISOLATE THE DATA TO JUST OUR FEATURES\n",
    "X = \n",
    "\n",
    "\n",
    "# ISOLATE JUST OUR TARGET DATA, THIS IS WHAT WE ARE TRYING TO PREDICT\n",
    "y = "
   ]
  },
  {
   "cell_type": "markdown",
   "metadata": {},
   "source": [
    "# Split our data into a training set and a testing set.\n",
    "* Use the sklearn `test_train_split` function.\n",
    "* The `training` data is what we will use to train our model.\n",
    "* The `testing` data is what we will use to evaluate our model. "
   ]
  },
  {
   "cell_type": "code",
   "execution_count": null,
   "metadata": {},
   "outputs": [],
   "source": [
    "# SPLIT OUR DATA INTO TRAINING AND TESTING SETS, \n",
    "# 80% GOING INTO OUR TESTING, AND HOLDING OUT 20% FOR OUR TESTING\n",
    "X_train, X_test, y_train, y_test = "
   ]
  },
  {
   "cell_type": "markdown",
   "metadata": {},
   "source": [
    "# Initialize our Linear Regression model."
   ]
  },
  {
   "cell_type": "code",
   "execution_count": null,
   "metadata": {},
   "outputs": [],
   "source": [
    "# INITIALIZE OUR LIN REG MODEL\n",
    "model = "
   ]
  },
  {
   "cell_type": "markdown",
   "metadata": {},
   "source": [
    "# Use our training data to fit aka train our model.\n",
    "* We could spend a whole semester going into the math behind the fitting model process. \n",
    "* At the highest level, it finds the best trend line for each of the input variables.  \n",
    "* I encourage you to read this article explaining OLS in further detail [here](https://towardsdatascience.com/simple-linear-regression-and-ols-introduction-to-the-theory-1b48f7c69867)."
   ]
  },
  {
   "cell_type": "code",
   "execution_count": null,
   "metadata": {},
   "outputs": [],
   "source": [
    "# THIS IS THE HEART OF OUR MODEL'S PROCESS\n",
    "# IT TAKES IN THE TRAINING DATA AND DOES ALL THE FANCY MATH\n",
    "model.fit()"
   ]
  },
  {
   "cell_type": "markdown",
   "metadata": {},
   "source": [
    "# Make new predicitions using our testing data."
   ]
  },
  {
   "cell_type": "code",
   "execution_count": null,
   "metadata": {},
   "outputs": [],
   "source": [
    "y_pred = "
   ]
  },
  {
   "cell_type": "markdown",
   "metadata": {},
   "source": [
    "# Now lets see how well the model explains the data by finding the R-Squared.\n",
    "* You can think of r-squared as a goodness of fit measure for the model.  \n",
    "* R-squared measure the strength of the relationship between your model and the dependent variable on a 0-100% scale.\n"
   ]
  },
  {
   "cell_type": "code",
   "execution_count": null,
   "metadata": {},
   "outputs": [],
   "source": [
    "r_squared = \n",
    "print('R-Squared Score:', r_squared)"
   ]
  },
  {
   "cell_type": "markdown",
   "metadata": {},
   "source": [
    "# Now find the Mean Absolute Error of our model"
   ]
  },
  {
   "cell_type": "code",
   "execution_count": null,
   "metadata": {},
   "outputs": [],
   "source": [
    "mae = metrics.mean_absolute_error()\n",
    "print(\"Mean Squared Error:\", mae)"
   ]
  },
  {
   "cell_type": "markdown",
   "metadata": {},
   "source": [
    "___\n",
    "# Inspecting our coefficients.\n",
    "\n",
    "### If you only remember one thing from this lesson let it be this... <br><br> The _coefficients_ of our model explain how each feature impact wine quality.\n",
    "* Use `model.coef_` to get the list of coefficients\n",
    "* Use the `features` varible to get the strings of each of the features"
   ]
  },
  {
   "cell_type": "code",
   "execution_count": null,
   "metadata": {},
   "outputs": [],
   "source": [
    "coefficients = pd.DataFrame(model.coef_, columns=features).T\n",
    "\n",
    "coefficients.columns = ['coefficient']\n",
    "\n",
    "coefficients"
   ]
  },
  {
   "cell_type": "markdown",
   "metadata": {},
   "source": [
    "# Looking at the coefficient for _suplhates_ above, the coefficient means that... <br><br> A 1 unit increase in _suplhates_ will lead to an increase of 0.9 in Quality of wine.\n"
   ]
  },
  {
   "cell_type": "markdown",
   "metadata": {},
   "source": [
    "---\n",
    "## Visualize another variable against quality using sns.regplot to see what the relationship looks like"
   ]
  },
  {
   "cell_type": "code",
   "execution_count": null,
   "metadata": {},
   "outputs": [],
   "source": [
    "plt.figure(figsize=(13,8))\n",
    "sns.regplot(x='quality', y=..., data=df, x_jitter=0.4);"
   ]
  },
  {
   "cell_type": "markdown",
   "metadata": {},
   "source": [
    "# Now, lets use our trained model to make new predictions. \n",
    "* Use the `X_test` data we held out at the beginning that the model has not seen yet.\n",
    "* Plug that into the model.predict function\n",
    "* Save the results so we can compare them with the actual values (y_test)"
   ]
  },
  {
   "cell_type": "code",
   "execution_count": null,
   "metadata": {},
   "outputs": [],
   "source": [
    "# USE OUR TESTING DATA TO MAKE NEW PREDICTIONS\n",
    "test_pred = model.predict(X_test)"
   ]
  },
  {
   "cell_type": "markdown",
   "metadata": {},
   "source": [
    "# Now, compare the test predictions to the test values. "
   ]
  },
  {
   "cell_type": "code",
   "execution_count": null,
   "metadata": {},
   "outputs": [],
   "source": [
    "# CREATE A PANDAS DATAFRAME USING OUR PREDICTIONS \n",
    "df_preds = pd.DataFrame(test_pred, columns=['predictions'])\n",
    "\n",
    "# Create a column named actual and set them to be our y_test \n",
    "df_preds['actual'] = \n",
    "\n",
    "\n",
    "# Calcualte the absolute error between the predictions and the actuals\n",
    "df_preds['abs_error'] =\n",
    "\n",
    "\n",
    "# Display the DataFrame\n",
    "df_preds.head()"
   ]
  },
  {
   "cell_type": "markdown",
   "metadata": {},
   "source": [
    "#  Manually make a predicition using the first row for your data.\n"
   ]
  },
  {
   "cell_type": "code",
   "execution_count": null,
   "metadata": {},
   "outputs": [],
   "source": [
    "# PLACE THE FIRST VALUE FROM OUR DATA INTO OUR COEFFICIENTS DATAFRAME\n",
    "coefficients['one_wine_review'] = df[features].head(1).T\n",
    "\n",
    "# MULTIPLY EACH FEATURE BY THEIR COEFFICIENTS \n",
    "coefficients['coef_x_review'] = \n",
    "\n",
    "# DISPLAY THE DATAFRAME\n",
    "coefficients"
   ]
  },
  {
   "cell_type": "code",
   "execution_count": null,
   "metadata": {},
   "outputs": [],
   "source": [
    "# TAKE SUM AND ADD THE Y-INTERCEPT\n",
    "wine_quality_prediction = \n",
    "\n",
    "# DISPLAY THE PREDICTION\n",
    "wine_quality_prediction"
   ]
  },
  {
   "cell_type": "markdown",
   "metadata": {},
   "source": [
    "# Saving and exporting our model for future use.\n",
    "* Use the library pickle to export the pickle"
   ]
  },
  {
   "cell_type": "code",
   "execution_count": null,
   "metadata": {},
   "outputs": [],
   "source": [
    "import pickle\n",
    "\n",
    "# NAME YOUR MODEL \n",
    "filename = 'white_wine_model.pkl'\n",
    "\n",
    "# EXPORT AND SAVE YOUR MODEL USING YOUR FILENAME"
   ]
  },
  {
   "cell_type": "markdown",
   "metadata": {},
   "source": [
    "# Extra credit.\n",
    "___\n",
    "1. Which feature can you remove that removing it will improve our model score?\n",
    "2. Are there any outliers in the data you are feeding the model.  If so, remove them and see what happens. \n",
    "3. How does this white wine model compare to our red wine model?\n",
    "4. Use `pd.plotting.scatter_matrix(df, figsize=(21,13));` to find relationships between all of the variables, and what does this tell you about their impact on wine quality. \n",
    "5. Make a python script that takes in a set array of feature values, loads your saved model to predict those input features, and outputs the predicted value. \n"
   ]
  },
  {
   "cell_type": "code",
   "execution_count": null,
   "metadata": {},
   "outputs": [],
   "source": []
  }
 ],
 "metadata": {
  "kernelspec": {
   "display_name": "Python 3",
   "language": "python",
   "name": "python3"
  },
  "language_info": {
   "codemirror_mode": {
    "name": "ipython",
    "version": 3
   },
   "file_extension": ".py",
   "mimetype": "text/x-python",
   "name": "python",
   "nbconvert_exporter": "python",
   "pygments_lexer": "ipython3",
   "version": "3.7.4"
  }
 },
 "nbformat": 4,
 "nbformat_minor": 2
}
