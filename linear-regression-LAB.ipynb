{
 "cells": [
  {
   "cell_type": "markdown",
   "metadata": {},
   "source": [
    "# Build and save a linear regression model to predict wine quality.\n",
    "* Use the data from our white wine data set `data/winequality-white.csv`\n"
   ]
  },
  {
   "cell_type": "code",
   "execution_count": null,
   "metadata": {},
   "outputs": [],
   "source": [
    "# IMPORT OUR LIBRARIES"
   ]
  },
  {
   "cell_type": "markdown",
   "metadata": {},
   "source": [
    "# Lets have a look at our data"
   ]
  },
  {
   "cell_type": "code",
   "execution_count": null,
   "metadata": {},
   "outputs": [],
   "source": [
    "# READ IN THE DATA USING PANDAS \n",
    "\n",
    "\n",
    "# DISPLAY THE FIRST 5 ROWS\n",
    "df.head()"
   ]
  },
  {
   "cell_type": "markdown",
   "metadata": {},
   "source": [
    "# Select your predictor features and your target variable.\n",
    "\n",
    "The predictor features are called the independent variables, inputs, or predictors.\n",
    "\n",
    "The dependent features are called the dependent variables, outputs, or target.\n",
    "\n",
    "It is a common practice to denote the input features with `X` and targets with `y`."
   ]
  },
  {
   "cell_type": "code",
   "execution_count": null,
   "metadata": {},
   "outputs": [],
   "source": [
    "# OUR THINGS AKA INPUT FEATURES ARE OUR EXPLANATORY VARIABLES\n",
    "# THESE ARE WHAT WE ARE GOING TO USE TO PREDICT THE QUALITY OF THE WINE\n",
    "features = \n",
    "\n",
    "# OUR TARGET, THE THING WE ARE TARGETING TO EXPLAIN, IS OUR DEPENDENT VARIABLE\n",
    "# THIS IS OUR OUTPUT\n",
    "target = \n",
    "\n",
    "\n",
    "# ISOLATE THE DATA TO JUST OUR FEATURES\n",
    "X = \n",
    "\n",
    "\n",
    "# ISOLATE JUST OUR TARGET DATA, THIS IS WHAT WE ARE TRYING TO PREDICT\n",
    "y = "
   ]
  },
  {
   "cell_type": "markdown",
   "metadata": {},
   "source": [
    "Typically, you need regression to answer whether and how some phenomenon influences the other or how several variables are related. For example, you can use it to determine if and to what extent the `alcohol` or `pH` impact the `quality`\n"
   ]
  },
  {
   "cell_type": "markdown",
   "metadata": {},
   "source": [
    "# Split our data into a training set and a testing set.\n",
    "We do this to avoid overfitting which is a larger concept you can learn more about [here](https://en.wikipedia.org/wiki/Overfitting) and [here](https://blog.minitab.com/blog/adventures-in-statistics-2/the-danger-of-overfitting-regression-models)."
   ]
  },
  {
   "cell_type": "code",
   "execution_count": null,
   "metadata": {},
   "outputs": [],
   "source": [
    "# SPLIT OUR DATA INTO TRAINING AND TESTING SETS, \n",
    "# 80% GOING INTO OUR TESTING, AND HOLDING OUT 20% FOR OUR TESTING\n",
    "X_train, X_test, y_train, y_test = "
   ]
  },
  {
   "cell_type": "markdown",
   "metadata": {},
   "source": [
    "# Initialize our Linear Regression model."
   ]
  },
  {
   "cell_type": "code",
   "execution_count": null,
   "metadata": {},
   "outputs": [],
   "source": [
    "# INITIALIZE OUR LIN REG MODEL\n",
    "model = "
   ]
  },
  {
   "cell_type": "markdown",
   "metadata": {},
   "source": [
    "# Use our training data to fit aka train our model.\n",
    "* We could spend a whole semester going into the math behind the fitting model process. \n",
    "* At the highest level, it finds the best trend line for each of the input variables.  \n",
    "* I encourage you to read this article explaining OLS in further detail [here](https://towardsdatascience.com/simple-linear-regression-and-ols-introduction-to-the-theory-1b48f7c69867)."
   ]
  },
  {
   "cell_type": "code",
   "execution_count": null,
   "metadata": {},
   "outputs": [],
   "source": [
    "# THIS IS THE HEART OF OUR MODEL'S PROCESS\n",
    "# IT TAKES IN THE TRAINING DATA AND DOES ALL THE FANCY MATH\n",
    "model.fit(,)"
   ]
  },
  {
   "cell_type": "markdown",
   "metadata": {},
   "source": [
    "# Make new predicitions using our testing data."
   ]
  },
  {
   "cell_type": "code",
   "execution_count": null,
   "metadata": {},
   "outputs": [],
   "source": [
    "y_pred = "
   ]
  },
  {
   "cell_type": "markdown",
   "metadata": {},
   "source": [
    "# Now lets see how well the model explains the data by finding the R-Squared.\n",
    "* You can think of r-squared as a goodness of fit measure for the model.  \n",
    "* R-squared measure the strength of the relationship between your model and the dependent variable on a 0-100% scale.\n",
    "* Remember, 0 is bad .3 is okay .6 is good .9+ is amazing."
   ]
  },
  {
   "cell_type": "code",
   "execution_count": null,
   "metadata": {},
   "outputs": [],
   "source": [
    "r_squared = \n",
    "print(r_squared)"
   ]
  },
  {
   "cell_type": "markdown",
   "metadata": {},
   "source": [
    "# Now find the Mean Absolute Error of our model"
   ]
  },
  {
   "cell_type": "code",
   "execution_count": null,
   "metadata": {},
   "outputs": [],
   "source": [
    "# Is MAE always between 0-1?\n",
    "metrics.mean_absolute_error(y_test, y_pred)"
   ]
  },
  {
   "cell_type": "markdown",
   "metadata": {},
   "source": [
    "___\n",
    "# Inspecting our coefficients.\n",
    "\n",
    "### If you only remember one thing from this lesson let it be this... <br><br> The _coefficients_ of our model explain how each feature impact wine quality."
   ]
  },
  {
   "cell_type": "code",
   "execution_count": null,
   "metadata": {},
   "outputs": [],
   "source": [
    "coefficients = pd.DataFrame(model.coef_, columns=features).T\n",
    "\n",
    "coefficients.columns = ['coefficient']\n",
    "\n",
    "coefficients"
   ]
  },
  {
   "cell_type": "markdown",
   "metadata": {},
   "source": [
    "# Looking at the coefficient for _suplhates_ above, the coefficient means that... <br><br> A 1 unit increase in _suplhates_ will lead to an increase of 0.9 in Quality of wine.\n"
   ]
  },
  {
   "cell_type": "code",
   "execution_count": null,
   "metadata": {},
   "outputs": [],
   "source": [
    "plt.figure(figsize=(13,8))\n",
    "sns.regplot(x='quality', y='sulphates', data=df, x_jitter=0.4);"
   ]
  },
  {
   "cell_type": "markdown",
   "metadata": {},
   "source": [
    "# Now, lets use our trained model to make new predictions. \n",
    "* Use the `X_test` data we held out at the beginning that the model has not seen yet.\n",
    "* Plug that into the model.predict function\n",
    "* Save the results so we can compare them with the actual values (y_test)"
   ]
  },
  {
   "cell_type": "code",
   "execution_count": null,
   "metadata": {},
   "outputs": [],
   "source": [
    "# USE OUR TESTING DATA TO MAKE NEW PREDICTIONS\n",
    "test_pred = model.predict(X_test)\n"
   ]
  },
  {
   "cell_type": "code",
   "execution_count": null,
   "metadata": {},
   "outputs": [],
   "source": []
  },
  {
   "cell_type": "markdown",
   "metadata": {},
   "source": [
    "# Now, lets compare the test predictions to the test values. "
   ]
  },
  {
   "cell_type": "code",
   "execution_count": null,
   "metadata": {},
   "outputs": [],
   "source": [
    "# CREATE A PANDAS DATAFRAME USING OUR PREDICTIONS \n",
    "df_preds = pd.DataFrame(test_pred, columns=['predictions'])\n",
    "\n",
    "df_preds['actual'] = y_test\n",
    "\n",
    "df_preds['abs_error'] = abs(df_preds['predictions'] - df_preds['actual'])\n",
    "\n",
    "df_preds.head()"
   ]
  },
  {
   "cell_type": "markdown",
   "metadata": {},
   "source": [
    "# LETS MANUALLY MAKE A PREDICTION FOR THE FIRST VALUE IN OUR DATA\n"
   ]
  },
  {
   "cell_type": "code",
   "execution_count": null,
   "metadata": {},
   "outputs": [],
   "source": [
    "# PLACE THE FIRST VALUE FROM OUR DATA INTO OUR COEFFICIENTS DATAFRAME\n",
    "coefficients['one_wine_review'] = df[features].head(1).T\n",
    "\n",
    "# MULTIPLY EACH FEATURE BY THEIR COEFFICIENTS \n",
    "coefficients['coef_x_review'] = coefficients['coefficient'] * coefficients['one_wine_review']\n",
    "\n",
    "# DISPLAY THE DATAFRAME\n",
    "coefficients\n",
    "\n",
    "# TAKE SUM AND ADD THE Y-INTERCEPT\n",
    "wine_quality_prediction = model.intercept_ + coefficients['coef_x_review'].sum()\n",
    "\n",
    "# DISPLAY THE PREDICTION\n",
    "wine_quality_prediction"
   ]
  },
  {
   "cell_type": "markdown",
   "metadata": {},
   "source": [
    "# Saving and exporting our model for future use.\n",
    "* Use the library pickle to export the pickle"
   ]
  },
  {
   "cell_type": "code",
   "execution_count": null,
   "metadata": {},
   "outputs": [],
   "source": [
    "import pickle\n",
    "\n",
    "# NAME YOUR MODEL \n",
    "filename = 'white_wine_model.pkl'\n",
    "\n",
    "# EXPORT AND SAVE YOUR MODEL USING YOUR FILENAME\n",
    "\n",
    "\n"
   ]
  },
  {
   "cell_type": "code",
   "execution_count": null,
   "metadata": {},
   "outputs": [],
   "source": [
    "## HOW TO LOAD IT FOR FUTURE USE\n",
    "# model = pickle.load(open(filename, 'rb'))"
   ]
  },
  {
   "cell_type": "code",
   "execution_count": null,
   "metadata": {},
   "outputs": [],
   "source": []
  }
 ],
 "metadata": {
  "kernelspec": {
   "display_name": "Python 3",
   "language": "python",
   "name": "python3"
  },
  "language_info": {
   "codemirror_mode": {
    "name": "ipython",
    "version": 3
   },
   "file_extension": ".py",
   "mimetype": "text/x-python",
   "name": "python",
   "nbconvert_exporter": "python",
   "pygments_lexer": "ipython3",
   "version": "3.7.4"
  }
 },
 "nbformat": 4,
 "nbformat_minor": 2
}
