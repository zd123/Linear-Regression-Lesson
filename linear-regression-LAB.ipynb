{
 "cells": [
  {
   "cell_type": "markdown",
   "metadata": {},
   "source": [
    "# Build and save a linear regression model to predict wine quality.\n",
    "* Use the data from our white wine data set `data/winequality-white.csv`\n"
   ]
  },
  {
   "cell_type": "code",
   "execution_count": 1,
   "metadata": {},
   "outputs": [],
   "source": [
    "# IMPORT OUR LIBRARIES\n",
    "\n"
   ]
  },
  {
   "cell_type": "markdown",
   "metadata": {},
   "source": [
    "# Lets have a look at our data"
   ]
  },
  {
   "cell_type": "code",
   "execution_count": 3,
   "metadata": {},
   "outputs": [
    {
     "ename": "NameError",
     "evalue": "name 'df' is not defined",
     "output_type": "error",
     "traceback": [
      "\u001b[0;31m---------------------------------------------------------------------------\u001b[0m",
      "\u001b[0;31mNameError\u001b[0m                                 Traceback (most recent call last)",
      "\u001b[0;32m<ipython-input-3-6df2bbd257e4>\u001b[0m in \u001b[0;36m<module>\u001b[0;34m\u001b[0m\n\u001b[1;32m      3\u001b[0m \u001b[0;34m\u001b[0m\u001b[0m\n\u001b[1;32m      4\u001b[0m \u001b[0;31m# DISPLAY THE FIRST 5 ROWS\u001b[0m\u001b[0;34m\u001b[0m\u001b[0;34m\u001b[0m\u001b[0;34m\u001b[0m\u001b[0m\n\u001b[0;32m----> 5\u001b[0;31m \u001b[0mdf\u001b[0m\u001b[0;34m.\u001b[0m\u001b[0mhead\u001b[0m\u001b[0;34m(\u001b[0m\u001b[0;34m)\u001b[0m\u001b[0;34m\u001b[0m\u001b[0;34m\u001b[0m\u001b[0m\n\u001b[0m",
      "\u001b[0;31mNameError\u001b[0m: name 'df' is not defined"
     ]
    }
   ],
   "source": [
    "# READ IN THE DATA USING PANDAS \n",
    "\n",
    "\n",
    "# DISPLAY THE FIRST 5 ROWS\n",
    "df.head()"
   ]
  },
  {
   "cell_type": "markdown",
   "metadata": {},
   "source": [
    "# Select your predictor features and your target variable.\n",
    "\n",
    "The predictor features are called the independent variables, inputs, or predictors.\n",
    "\n",
    "The dependent features are called the dependent variables, outputs, or target.\n",
    "\n",
    "It is a common practice to denote the input features with `X` and targets with `y`."
   ]
  },
  {
   "cell_type": "code",
   "execution_count": 3,
   "metadata": {},
   "outputs": [],
   "source": [
    "# OUR THINGS AKA INPUT FEATURES ARE OUR EXPLANATORY VARIABLES\n",
    "# THESE ARE WHAT WE ARE GOING TO USE TO PREDICT THE QUALITY OF THE WINE\n",
    "features = \n",
    "\n",
    "# OUR TARGET, THE THING WE ARE TARGETING TO EXPLAIN, IS OUR DEPENDENT VARIABLE\n",
    "# THIS IS OUR OUTPUT\n",
    "target = \n",
    "\n",
    "\n",
    "# ISOLATE THE DATA TO JUST OUR FEATURES\n",
    "X = \n",
    "\n",
    "\n",
    "# ISOLATE JUST OUR TARGET DATA, THIS IS WHAT WE ARE TRYING TO PREDICT\n",
    "y = "
   ]
  },
  {
   "cell_type": "markdown",
   "metadata": {},
   "source": [
    "Typically, you need regression to answer whether and how some phenomenon influences the other or how several variables are related. For example, you can use it to determine if and to what extent the `alcohol` or `pH` impact the `quality`\n"
   ]
  },
  {
   "cell_type": "markdown",
   "metadata": {},
   "source": [
    "# Split our data into a training set and a testing set.\n",
    "We do this to avoid overfitting which is a larger concept you can learn more about [here](https://en.wikipedia.org/wiki/Overfitting) and [here](https://blog.minitab.com/blog/adventures-in-statistics-2/the-danger-of-overfitting-regression-models)."
   ]
  },
  {
   "cell_type": "code",
   "execution_count": 4,
   "metadata": {},
   "outputs": [],
   "source": [
    "# SPLIT OUR DATA INTO TRAINING AND TESTING SETS, \n",
    "# 80% GOING INTO OUR TESTING, AND HOLDING OUT 20% FOR OUR TESTING\n",
    "X_train, X_test, y_train, y_test = "
   ]
  },
  {
   "cell_type": "markdown",
   "metadata": {},
   "source": [
    "# Initialize our Linear Regression model."
   ]
  },
  {
   "cell_type": "code",
   "execution_count": 5,
   "metadata": {},
   "outputs": [],
   "source": [
    "# INITIALIZE OUR LIN REG MODEL\n",
    "model = "
   ]
  },
  {
   "cell_type": "markdown",
   "metadata": {},
   "source": [
    "# Use our training data to fit aka train our model.\n",
    "* We could spend a whole semester going into the math behind the fitting model process. \n",
    "* At the highest level, it finds the best trend line for each of the input variables.  \n",
    "* I encourage you to read this article explaining OLS in further detail [here](https://towardsdatascience.com/simple-linear-regression-and-ols-introduction-to-the-theory-1b48f7c69867)."
   ]
  },
  {
   "cell_type": "code",
   "execution_count": 6,
   "metadata": {},
   "outputs": [
    {
     "data": {
      "text/plain": [
       "LinearRegression(copy_X=True, fit_intercept=True, n_jobs=None, normalize=False)"
      ]
     },
     "execution_count": 6,
     "metadata": {},
     "output_type": "execute_result"
    }
   ],
   "source": [
    "# THIS IS THE HEART OF OUR MODEL'S PROCESS\n",
    "# IT TAKES IN THE TRAINING DATA AND DOES ALL THE FANCY MATH\n",
    "model.fit(,)"
   ]
  },
  {
   "cell_type": "markdown",
   "metadata": {},
   "source": [
    "# Make new predicitions using our testing data."
   ]
  },
  {
   "cell_type": "code",
   "execution_count": 7,
   "metadata": {},
   "outputs": [],
   "source": [
    "y_pred = "
   ]
  },
  {
   "cell_type": "markdown",
   "metadata": {},
   "source": [
    "# Now lets see how well the model explains the data by finding the R-Squared.\n",
    "* You can think of r-squared as a goodness of fit measure for the model.  \n",
    "* R-squared measure the strength of the relationship between your model and the dependent variable on a 0-100% scale.\n",
    "* Remember, 0 is bad .3 is okay .6 is good .9+ is amazing."
   ]
  },
  {
   "cell_type": "code",
   "execution_count": 10,
   "metadata": {},
   "outputs": [
    {
     "name": "stdout",
     "output_type": "stream",
     "text": [
      "0.32664027269869844\n"
     ]
    }
   ],
   "source": [
    "r_squared = \n",
    "print(r_squared)"
   ]
  },
  {
   "cell_type": "markdown",
   "metadata": {},
   "source": [
    "# Now find the Mean Absolute Error of our model"
   ]
  },
  {
   "cell_type": "code",
   "execution_count": null,
   "metadata": {},
   "outputs": [],
   "source": [
    "# Is MAE always between 0-1?\n",
    "metrics.mean_absolute_error(y_test, y_pred)"
   ]
  },
  {
   "cell_type": "markdown",
   "metadata": {},
   "source": [
    "___\n",
    "# Inspecting our coefficients.\n",
    "\n",
    "### If you only remember one thing from this lesson let it be this... <br><br> The _coefficients_ of our model explain how each feature impact wine quality."
   ]
  },
  {
   "cell_type": "code",
   "execution_count": 12,
   "metadata": {},
   "outputs": [
    {
     "data": {
      "text/html": [
       "<div>\n",
       "<style scoped>\n",
       "    .dataframe tbody tr th:only-of-type {\n",
       "        vertical-align: middle;\n",
       "    }\n",
       "\n",
       "    .dataframe tbody tr th {\n",
       "        vertical-align: top;\n",
       "    }\n",
       "\n",
       "    .dataframe thead th {\n",
       "        text-align: right;\n",
       "    }\n",
       "</style>\n",
       "<table border=\"1\" class=\"dataframe\">\n",
       "  <thead>\n",
       "    <tr style=\"text-align: right;\">\n",
       "      <th></th>\n",
       "      <th>coefficient</th>\n",
       "    </tr>\n",
       "  </thead>\n",
       "  <tbody>\n",
       "    <tr>\n",
       "      <td>fixed acidity</td>\n",
       "      <td>0.047962</td>\n",
       "    </tr>\n",
       "    <tr>\n",
       "      <td>volatile acidity</td>\n",
       "      <td>-1.118401</td>\n",
       "    </tr>\n",
       "    <tr>\n",
       "      <td>citric acid</td>\n",
       "      <td>-0.276228</td>\n",
       "    </tr>\n",
       "    <tr>\n",
       "      <td>residual sugar</td>\n",
       "      <td>0.020476</td>\n",
       "    </tr>\n",
       "    <tr>\n",
       "      <td>chlorides</td>\n",
       "      <td>-1.768907</td>\n",
       "    </tr>\n",
       "    <tr>\n",
       "      <td>free sulfur dioxide</td>\n",
       "      <td>0.005350</td>\n",
       "    </tr>\n",
       "    <tr>\n",
       "      <td>total sulfur dioxide</td>\n",
       "      <td>-0.003449</td>\n",
       "    </tr>\n",
       "    <tr>\n",
       "      <td>density</td>\n",
       "      <td>-36.710223</td>\n",
       "    </tr>\n",
       "    <tr>\n",
       "      <td>pH</td>\n",
       "      <td>-0.347701</td>\n",
       "    </tr>\n",
       "    <tr>\n",
       "      <td>sulphates</td>\n",
       "      <td>0.929729</td>\n",
       "    </tr>\n",
       "    <tr>\n",
       "      <td>alcohol</td>\n",
       "      <td>0.266278</td>\n",
       "    </tr>\n",
       "  </tbody>\n",
       "</table>\n",
       "</div>"
      ],
      "text/plain": [
       "                      coefficient\n",
       "fixed acidity            0.047962\n",
       "volatile acidity        -1.118401\n",
       "citric acid             -0.276228\n",
       "residual sugar           0.020476\n",
       "chlorides               -1.768907\n",
       "free sulfur dioxide      0.005350\n",
       "total sulfur dioxide    -0.003449\n",
       "density                -36.710223\n",
       "pH                      -0.347701\n",
       "sulphates                0.929729\n",
       "alcohol                  0.266278"
      ]
     },
     "execution_count": 12,
     "metadata": {},
     "output_type": "execute_result"
    }
   ],
   "source": [
    "coefficients = pd.DataFrame(model.coef_, columns=features).T\n",
    "\n",
    "coefficients.columns = ['coefficient']\n",
    "\n",
    "coefficients"
   ]
  },
  {
   "cell_type": "markdown",
   "metadata": {},
   "source": [
    "# Looking at the coefficient for _suplhates_ above, the coefficient means that... <br><br> A 1 unit increase in _suplhates_ will lead to an increase of 0.9 in Quality of wine.\n"
   ]
  },
  {
   "cell_type": "code",
   "execution_count": 14,
   "metadata": {},
   "outputs": [
    {
     "data": {
      "image/png": "[encoded data removed]",
      "text/plain": [
       "<Figure size 936x576 with 1 Axes>"
      ]
     },
     "metadata": {
      "needs_background": "light"
     },
     "output_type": "display_data"
    }
   ],
   "source": [
    "plt.figure(figsize=(13,8))\n",
    "sns.regplot(x='quality', y='sulphates', data=df, x_jitter=0.4);"
   ]
  },
  {
   "cell_type": "markdown",
   "metadata": {},
   "source": [
    "# Now, lets use our trained model to make new predictions. \n",
    "* Use the `X_test` data we held out at the beginning that the model has not seen yet.\n",
    "* Plug that into the model.predict function\n",
    "* Save the results so we can compare them with the actual values (y_test)"
   ]
  },
  {
   "cell_type": "code",
   "execution_count": 18,
   "metadata": {},
   "outputs": [],
   "source": [
    "# USE OUR TESTING DATA TO MAKE NEW PREDICTIONS\n",
    "test_pred = model.predict(X_test)\n"
   ]
  },
  {
   "cell_type": "code",
   "execution_count": null,
   "metadata": {},
   "outputs": [],
   "source": []
  },
  {
   "cell_type": "markdown",
   "metadata": {},
   "source": [
    "# Now, lets compare the test predictions to the test values. "
   ]
  },
  {
   "cell_type": "code",
   "execution_count": 20,
   "metadata": {},
   "outputs": [
    {
     "data": {
      "text/html": [
       "<div>\n",
       "<style scoped>\n",
       "    .dataframe tbody tr th:only-of-type {\n",
       "        vertical-align: middle;\n",
       "    }\n",
       "\n",
       "    .dataframe tbody tr th {\n",
       "        vertical-align: top;\n",
       "    }\n",
       "\n",
       "    .dataframe thead th {\n",
       "        text-align: right;\n",
       "    }\n",
       "</style>\n",
       "<table border=\"1\" class=\"dataframe\">\n",
       "  <thead>\n",
       "    <tr style=\"text-align: right;\">\n",
       "      <th></th>\n",
       "      <th>predictions</th>\n",
       "      <th>actual</th>\n",
       "      <th>abs_error</th>\n",
       "    </tr>\n",
       "  </thead>\n",
       "  <tbody>\n",
       "    <tr>\n",
       "      <td>0</td>\n",
       "      <td>5.536655</td>\n",
       "      <td>5</td>\n",
       "      <td>0.536655</td>\n",
       "    </tr>\n",
       "    <tr>\n",
       "      <td>1</td>\n",
       "      <td>5.375703</td>\n",
       "      <td>6</td>\n",
       "      <td>0.624297</td>\n",
       "    </tr>\n",
       "    <tr>\n",
       "      <td>2</td>\n",
       "      <td>6.099949</td>\n",
       "      <td>6</td>\n",
       "      <td>0.099949</td>\n",
       "    </tr>\n",
       "    <tr>\n",
       "      <td>3</td>\n",
       "      <td>5.727178</td>\n",
       "      <td>6</td>\n",
       "      <td>0.272822</td>\n",
       "    </tr>\n",
       "    <tr>\n",
       "      <td>4</td>\n",
       "      <td>6.688794</td>\n",
       "      <td>6</td>\n",
       "      <td>0.688794</td>\n",
       "    </tr>\n",
       "  </tbody>\n",
       "</table>\n",
       "</div>"
      ],
      "text/plain": [
       "   predictions  actual  abs_error\n",
       "0     5.536655       5   0.536655\n",
       "1     5.375703       6   0.624297\n",
       "2     6.099949       6   0.099949\n",
       "3     5.727178       6   0.272822\n",
       "4     6.688794       6   0.688794"
      ]
     },
     "execution_count": 20,
     "metadata": {},
     "output_type": "execute_result"
    }
   ],
   "source": [
    "# CREATE A PANDAS DATAFRAME USING OUR PREDICTIONS \n",
    "df_preds = pd.DataFrame(test_pred, columns=['predictions'])\n",
    "\n",
    "df_preds['actual'] = y_test\n",
    "\n",
    "df_preds['abs_error'] = abs(df_preds['predictions'] - df_preds['actual'])\n",
    "\n",
    "df_preds.head()"
   ]
  },
  {
   "cell_type": "markdown",
   "metadata": {},
   "source": [
    "# LETS MANUALLY MAKE A PREDICTION FOR THE FIRST VALUE IN OUR DATA\n"
   ]
  },
  {
   "cell_type": "code",
   "execution_count": null,
   "metadata": {},
   "outputs": [],
   "source": [
    "# PLACE THE FIRST VALUE FROM OUR DATA INTO OUR COEFFICIENTS DATAFRAME\n",
    "coefficients['one_wine_review'] = df[features].head(1).T\n",
    "\n",
    "# MULTIPLY EACH FEATURE BY THEIR COEFFICIENTS \n",
    "coefficients['coef_x_review'] = coefficients['coefficient'] * coefficients['one_wine_review']\n",
    "\n",
    "# DISPLAY THE DATAFRAME\n",
    "coefficients\n",
    "\n",
    "# TAKE SUM AND ADD THE Y-INTERCEPT\n",
    "wine_quality_prediction = model.intercept_ + coefficients['coef_x_review'].sum()\n",
    "\n",
    "# DISPLAY THE PREDICTION\n",
    "wine_quality_prediction"
   ]
  },
  {
   "cell_type": "markdown",
   "metadata": {},
   "source": [
    "# Saving and exporting our model for future use.\n",
    "* Use the library pickle to export the pickle"
   ]
  },
  {
   "cell_type": "code",
   "execution_count": 27,
   "metadata": {},
   "outputs": [],
   "source": [
    "import pickle\n",
    "\n",
    "# NAME YOUR MODEL \n",
    "filename = 'red_wine_model.pkl'\n",
    "\n",
    "# EXPORT AND SAVE YOUR MODEL USING YOUR FILENAME\n",
    "pickle.dump(model, open(filename, 'wb'))\n",
    "\n"
   ]
  },
  {
   "cell_type": "code",
   "execution_count": 26,
   "metadata": {},
   "outputs": [
    {
     "data": {
      "text/plain": [
       "0.32664027269869844"
      ]
     },
     "execution_count": 26,
     "metadata": {},
     "output_type": "execute_result"
    }
   ],
   "source": [
    "## HOW TO LOAD IT FOR FUTURE USE\n",
    "# model = pickle.load(open(filename, 'rb'))"
   ]
  },
  {
   "cell_type": "markdown",
   "metadata": {},
   "source": [
    "# NOT SURE HOW TO WRAP THIS UP\n",
    "* THINGS YOU CAN DO TO IMPROVE YOUR SCORE...\n",
    "* AVOID OVERFITTING - \n",
    "* P-VALUES?"
   ]
  },
  {
   "cell_type": "code",
   "execution_count": null,
   "metadata": {},
   "outputs": [],
   "source": [
    "# LOOKING AT THE FIRST WINE SAMPLE FROM OUR DATA\n"
   ]
  },
  {
   "cell_type": "code",
   "execution_count": null,
   "metadata": {},
   "outputs": [],
   "source": [
    "model.predict(df[features].head(1))"
   ]
  },
  {
   "cell_type": "code",
   "execution_count": null,
   "metadata": {},
   "outputs": [],
   "source": []
  },
  {
   "cell_type": "markdown",
   "metadata": {},
   "source": [
    "# WITH ERIC"
   ]
  },
  {
   "cell_type": "code",
   "execution_count": null,
   "metadata": {},
   "outputs": [],
   "source": [
    "df.plot(kind='scatter', x='citric acid', y='fixed acidity', figsize=(13,8))\n"
   ]
  },
  {
   "cell_type": "code",
   "execution_count": null,
   "metadata": {},
   "outputs": [],
   "source": [
    "model = LinearRegression()\n",
    "x = df['citric acid'].values.reshape(-1, 1)\n",
    "y = df['fixed acidity'].values.reshape(-1,1)\n",
    "model.fit(x, y)\n",
    "\n",
    "y_intercept = model.intercept_\n",
    "\n",
    "coef = model.coef_\n"
   ]
  },
  {
   "cell_type": "code",
   "execution_count": null,
   "metadata": {},
   "outputs": [],
   "source": [
    "import numpy as np"
   ]
  },
  {
   "cell_type": "code",
   "execution_count": null,
   "metadata": {
    "scrolled": false
   },
   "outputs": [],
   "source": [
    "x_new = np.linspace(0, 1, 2)\n",
    "\n",
    "y_new = model.predict(x_new[:, np.newaxis])\n",
    "\n",
    "plt.figure(figsize=(13, 8))\n",
    "\n",
    "ax = plt.axes()\n",
    "\n",
    "ax.scatter(x, y)\n",
    "\n",
    "ax.plot(x_new, y_new, color='r')\n",
    "\n",
    "ax.set_xlabel('x')\n",
    "\n",
    "ax.set_ylabel('y')\n",
    "\n",
    "ax.axis('tight')\n",
    "\n",
    "plt.show()"
   ]
  },
  {
   "cell_type": "code",
   "execution_count": null,
   "metadata": {},
   "outputs": [],
   "source": [
    "# WHY IS THIS THE CORRECT LINE...\n",
    "# ITS THE FUNCTION THAT REDUCES THE ERROR THE MOST... \n",
    "# IE: THE AMOUNT OF SPACE BETWEEN EVERY DOT AND THE LINE"
   ]
  },
  {
   "cell_type": "code",
   "execution_count": null,
   "metadata": {},
   "outputs": [],
   "source": [
    "plt.figure(figsize=(4, 3))\n",
    "ax = plt.axes()\n",
    "ax.scatter(df['x, y)\n",
    "ax.plot(x_new, y_new)\n",
    "\n",
    "ax.set_xlabel('x')\n",
    "ax.set_ylabel('y')\n",
    "\n",
    "ax.axis('tight')\n",
    "\n",
    "\n",
    "plt.show()"
   ]
  },
  {
   "cell_type": "code",
   "execution_count": null,
   "metadata": {},
   "outputs": [],
   "source": [
    "df['citric acid'].values.reshape(-1, 1)"
   ]
  },
  {
   "cell_type": "markdown",
   "metadata": {},
   "source": [
    "### BELOW HERE ARE SCRAPS ###\n",
    "---"
   ]
  },
  {
   "cell_type": "code",
   "execution_count": null,
   "metadata": {},
   "outputs": [],
   "source": []
  },
  {
   "cell_type": "code",
   "execution_count": null,
   "metadata": {},
   "outputs": [],
   "source": [
    "# for feature in features:\n",
    "#     sns.set()\n",
    "#     sns.relplot(data = df, x = feature, y = 'quality', kind='line', height=5, aspect=1)"
   ]
  },
  {
   "cell_type": "code",
   "execution_count": null,
   "metadata": {},
   "outputs": [],
   "source": []
  },
  {
   "cell_type": "code",
   "execution_count": null,
   "metadata": {},
   "outputs": [],
   "source": []
  },
  {
   "cell_type": "code",
   "execution_count": null,
   "metadata": {},
   "outputs": [],
   "source": [
    "df.hist(bins=50, figsize=(20,15), color='maroon');"
   ]
  },
  {
   "cell_type": "code",
   "execution_count": null,
   "metadata": {},
   "outputs": [],
   "source": []
  },
  {
   "cell_type": "code",
   "execution_count": null,
   "metadata": {},
   "outputs": [],
   "source": [
    "import statsmodels.api as sm\n",
    "m = sm.OLS(df['quality'], df[features])\n",
    "results = m.fit()"
   ]
  },
  {
   "cell_type": "code",
   "execution_count": null,
   "metadata": {},
   "outputs": [],
   "source": [
    "results.summary()"
   ]
  },
  {
   "cell_type": "code",
   "execution_count": null,
   "metadata": {},
   "outputs": [],
   "source": [
    "house_size = np.random.random??"
   ]
  },
  {
   "cell_type": "code",
   "execution_count": null,
   "metadata": {},
   "outputs": [],
   "source": [
    "import numpy as np\n",
    "house_size = np.random.randint(low=1000, high=3000,size=20)\n",
    "house_price = house_size * 90 + 10000\n",
    "house_df = pd.DataFrame(house_size,columns=['size'])\n",
    "house_df['price'] = house_price\n",
    "house_df\n",
    "\n",
    "house_df['noiser_price'] = house_df['price'].apply(lambda x: x + np.random.randint(-1000,1000))\n",
    "house_df"
   ]
  },
  {
   "cell_type": "code",
   "execution_count": null,
   "metadata": {},
   "outputs": [],
   "source": [
    "house_size = np.random.randint(low=1000, high=3000,size=20)\n",
    "house_price = house_size * 90 + 10000\n",
    "house_df = pd.DataFrame(house_size,columns=['size'])\n",
    "house_df['price'] = house_price\n",
    "\n",
    "house_df['price'] = house_df['price'].apply(lambda x: x + np.random.randint(-10000,10000))\n",
    "house_df.to_csv('data/housing.csv', index=False)"
   ]
  },
  {
   "cell_type": "code",
   "execution_count": null,
   "metadata": {},
   "outputs": [],
   "source": []
  }
 ],
 "metadata": {
  "kernelspec": {
   "display_name": "Python 3",
   "language": "python",
   "name": "python3"
  },
  "language_info": {
   "codemirror_mode": {
    "name": "ipython",
    "version": 3
   },
   "file_extension": ".py",
   "mimetype": "text/x-python",
   "name": "python",
   "nbconvert_exporter": "python",
   "pygments_lexer": "ipython3",
   "version": "3.7.4"
  }
 },
 "nbformat": 4,
 "nbformat_minor": 2
}
